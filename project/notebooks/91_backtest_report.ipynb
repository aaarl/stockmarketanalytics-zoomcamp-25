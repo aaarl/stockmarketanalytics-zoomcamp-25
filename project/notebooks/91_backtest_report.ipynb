{
 "cells": [
  {
   "cell_type": "markdown",
   "metadata": {},
   "source": [
    "# 91 \u2013 Backtest Report\n",
    "Equity curves and KPIs for DecisionTree & RandomForest."
   ]
  },
  {
   "cell_type": "code",
   "execution_count": null,
   "metadata": {},
   "outputs": [],
   "source": [
    "import pandas as pd\n",
    "import matplotlib.pyplot as plt\n",
    "import yaml\n",
    "from src.simulation.strategies import sim_long_only_threshold, sim_long_short_threshold, sim_long_only_sl_tp\n",
    "\n",
    "cfg = yaml.safe_load(open('config/config.yaml'))\n",
    "preds = pd.read_csv('data/processed/predictions.csv')\n",
    "prob_cols = [c for c in ['pred_RandomForest','pred_DecisionTree'] if c in preds.columns]\n",
    "\n",
    "for col in prob_cols:\n",
    "    s1 = sim_long_only_threshold(\n",
    "        preds.copy(), col,\n",
    "        threshold=cfg['simulation']['thresholds']['buy_prob'],\n",
    "        fee_bps=cfg['simulation']['costs']['fee_bps'],\n",
    "        max_concurrent=cfg['simulation']['capital']['max_concurrent_positions']\n",
    "    )\n",
    "    s1['Date'] = pd.to_datetime(s1['Date'])\n",
    "    fig, ax = plt.subplots(figsize=(8,3))\n",
    "    ax.plot(s1['Date'], s1['equity'])\n",
    "    ax.set_title(f'Equity Curve (Long-only threshold) \u2013 {col.replace(\"pred_\",\"\")}')\n",
    "    ax.set_xlabel('Date'); ax.set_ylabel('Equity')\n",
    "    plt.show()\n",
    "\n",
    "summary = pd.read_csv('reports/backtests/summary.csv')\n",
    "summary"
   ]
  }
 ],
 "metadata": {
  "kernelspec": {
   "display_name": "Python 3",
   "language": "python",
   "name": "python3"
  },
  "language_info": {
   "name": "python",
   "pygments_lexer": "ipython3",
   "version": "3.11"
  }
 },
 "nbformat": 4,
 "nbformat_minor": 5
}
