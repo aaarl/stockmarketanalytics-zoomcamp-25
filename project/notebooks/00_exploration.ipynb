{
 "cells": [
  {
   "cell_type": "markdown",
   "metadata": {},
   "source": [
    "# 00 \u2013 Exploration\n",
    "Quick look at raw prices and returns."
   ]
  },
  {
   "cell_type": "code",
   "execution_count": 1,
   "metadata": {},
   "outputs": [
    {
     "data": {
      "text/plain": [
       "   Date        AMZN        DPZ        BTC       NFLX\n",
       "0  2016-01-01  ... (sample head preview once you run locally) ..."
      ]
     },
     "execution_count": 1,
     "metadata": {},
     "output_type": "execute_result"
    }
   ],
   "source": [
    "import pandas as pd\n",
    "import matplotlib.pyplot as plt\n",
    "from pathlib import Path\n",
    "raw = Path('data/raw')\n",
    "portfolio = pd.read_csv(raw/'portfolio_data.csv')\n",
    "portfolio.head()"
   ]
  },
  {
   "cell_type": "code",
   "execution_count": 2,
   "metadata": {},
   "outputs": [
    {
     "data": {
      "text/plain": [
       "(Descriptive stats will show here after you run locally)"
      ]
     },
     "execution_count": 2,
     "metadata": {},
     "output_type": "execute_result"
    }
   ],
   "source": [
    "portfolio['Date'] = pd.to_datetime(portfolio['Date'])\n",
    "portfolio.describe()"
   ]
  },
  {
   "cell_type": "code",
   "execution_count": 3,
   "metadata": {},
   "outputs": [],
   "source": [
    "ax = portfolio.set_index('Date')[['AMZN','DPZ','BTC','NFLX']].plot(figsize=(10,4))\n",
    "ax.set_title('Prices over time')\n",
    "plt.show()"
   ]
  },
  {
   "cell_type": "code",
   "execution_count": 4,
   "metadata": {},
   "outputs": [],
   "source": [
    "long_df = portfolio.melt(id_vars=['Date'], var_name='ticker', value_name='price')\n",
    "long_df['Date']=pd.to_datetime(long_df['Date'])\n",
    "long_df['ret_1d']=long_df.groupby('ticker')['price'].pct_change()\n",
    "ax = long_df['ret_1d'].hist(bins=100, figsize=(8,3))\n",
    "ax.set_title('Return distribution (all tickers)')\n",
    "plt.show()"
   ]
  }
 ],
 "metadata": {
  "kernelspec": {
   "display_name": "Python 3",
   "language": "python",
   "name": "python3"
  },
  "language_info": {
   "name": "python",
   "pygments_lexer": "ipython3",
   "version": "3.11"
  }
 },
 "nbformat": 4,
 "nbformat_minor": 5
}
